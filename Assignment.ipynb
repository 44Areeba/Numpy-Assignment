{
 "cells": [
  {
   "cell_type": "code",
   "execution_count": 1,
   "id": "3cd06887",
   "metadata": {},
   "outputs": [
    {
     "data": {
      "text/plain": [
       "array([ 60,  80, 100, 120])"
      ]
     },
     "metadata": {},
     "output_type": "display_data"
    }
   ],
   "source": [
    "import numpy as np\n",
    "\n",
    "Arr1 = np.array([10,20,30,40])\n",
    "Arr2 = np.array([50,60,70,80])\n",
    "New_Arr = np.add(Arr1,Arr2)\n",
    "\n",
    "display(New_Arr)"
   ]
  },
  {
   "cell_type": "code",
   "execution_count": 2,
   "id": "981ae5bc",
   "metadata": {},
   "outputs": [
    {
     "data": {
      "text/plain": [
       "array([-2,  5,  8,  7])"
      ]
     },
     "metadata": {},
     "output_type": "display_data"
    }
   ],
   "source": [
    "import numpy as np\n",
    "\n",
    "Arr1 = np.array([10,20,30,40])\n",
    "Arr2 = np.array([12,15,22,33])\n",
    "New_Arr = np.subtract(Arr1,Arr2)\n",
    "\n",
    "display(New_Arr)"
   ]
  },
  {
   "cell_type": "code",
   "execution_count": 3,
   "id": "31de70d1",
   "metadata": {},
   "outputs": [
    {
     "data": {
      "text/plain": [
       "array([ 605, 1386, 2387, 3608])"
      ]
     },
     "metadata": {},
     "output_type": "display_data"
    }
   ],
   "source": [
    "import numpy as np\n",
    "\n",
    "Arr1 = np.array([11,21,31,41])\n",
    "Arr2 = np.array([55,66,77,88])\n",
    "New_Arr = np.multiply(Arr1,Arr2)\n",
    "\n",
    "display(New_Arr)"
   ]
  },
  {
   "cell_type": "code",
   "execution_count": 4,
   "id": "77bafa4f",
   "metadata": {},
   "outputs": [
    {
     "data": {
      "text/plain": [
       "array([5.        , 6.66666667, 6.        , 5.71428571])"
      ]
     },
     "metadata": {},
     "output_type": "display_data"
    }
   ],
   "source": [
    "import numpy as np\n",
    "\n",
    "Arr1 = np.array([10,20,30,40])\n",
    "Arr2 = np.array([2,3,5,7])\n",
    "New_Arr = np.divide(Arr1,Arr2)\n",
    "\n",
    "display(New_Arr)"
   ]
  },
  {
   "cell_type": "code",
   "execution_count": 5,
   "id": "12986a97",
   "metadata": {},
   "outputs": [
    {
     "data": {
      "text/plain": [
       "array([     125,    10000,   759375, 64000000], dtype=int32)"
      ]
     },
     "metadata": {},
     "output_type": "display_data"
    }
   ],
   "source": [
    "import numpy as np\n",
    "\n",
    "Arr1 = np.array([5,10,15,20])\n",
    "Arr2 = np.array([3,4,5,6])\n",
    "New_Arr = np.power(Arr1,Arr2)\n",
    "\n",
    "display(New_Arr)"
   ]
  },
  {
   "cell_type": "code",
   "execution_count": 6,
   "id": "6683ef60",
   "metadata": {},
   "outputs": [
    {
     "data": {
      "text/plain": [
       "(array([6, 8, 8, 8], dtype=int32), array([2, 0, 4, 8], dtype=int32))"
      ]
     },
     "metadata": {},
     "output_type": "display_data"
    }
   ],
   "source": [
    "import numpy as np\n",
    "\n",
    "Arr1 = np.array([20,40,60,80])\n",
    "Arr2 = np.array([3,5,7,9])\n",
    "New_Arr = np.divmod(Arr1,Arr2)\n",
    "\n",
    "display(New_Arr)"
   ]
  },
  {
   "cell_type": "code",
   "execution_count": 7,
   "id": "dddab0cc",
   "metadata": {},
   "outputs": [
    {
     "data": {
      "text/plain": [
       "array([ 4., -5.,  7., -3.])"
      ]
     },
     "metadata": {},
     "output_type": "display_data"
    }
   ],
   "source": [
    "import numpy as np\n",
    "\n",
    "Arr = np.trunc([4.226, -5.667, 7.436, -3.668])\n",
    "\n",
    "display(Arr)"
   ]
  },
  {
   "cell_type": "code",
   "execution_count": 8,
   "id": "8c58639f",
   "metadata": {},
   "outputs": [
    {
     "data": {
      "text/plain": [
       "1110"
      ]
     },
     "metadata": {},
     "output_type": "display_data"
    }
   ],
   "source": [
    "import numpy as np\n",
    "\n",
    "Arr1 = np.array([1,2,3,4])\n",
    "Arr2 = np.array([10,20,30,40])\n",
    "Arr3 = np.array([100,200,300,400])\n",
    "New_Arr = np.sum([Arr1, Arr2, Arr3])\n",
    "\n",
    "display(New_Arr)"
   ]
  },
  {
   "cell_type": "code",
   "execution_count": 9,
   "id": "38a946b0",
   "metadata": {},
   "outputs": [
    {
     "data": {
      "text/plain": [
       "array([ 11,  32,  63, 104, 155], dtype=int32)"
      ]
     },
     "metadata": {},
     "output_type": "display_data"
    }
   ],
   "source": [
    "import numpy as np\n",
    "\n",
    "Arr = np.array([11,21,31,41,51])\n",
    "New_Arr = np.cumsum(Arr)\n",
    "\n",
    "display(New_Arr)"
   ]
  },
  {
   "cell_type": "code",
   "execution_count": 4,
   "id": "d925eeac",
   "metadata": {},
   "outputs": [
    {
     "data": {
      "text/plain": [
       "5760000"
      ]
     },
     "metadata": {},
     "output_type": "display_data"
    }
   ],
   "source": [
    "import numpy as np\n",
    "\n",
    "Arr1 = np.array([1,2,3,4])\n",
    "Arr2 = np.array([10,20,30,40])\n",
    "New_Arr = np.prod([Arr1, Arr2])\n",
    "\n",
    "display(New_Arr)"
   ]
  },
  {
   "cell_type": "code",
   "execution_count": null,
   "id": "f3d04229",
   "metadata": {},
   "outputs": [],
   "source": []
  }
 ],
 "metadata": {
  "kernelspec": {
   "display_name": "Python 3",
   "language": "python",
   "name": "python3"
  },
  "language_info": {
   "codemirror_mode": {
    "name": "ipython",
    "version": 3
   },
   "file_extension": ".py",
   "mimetype": "text/x-python",
   "name": "python",
   "nbconvert_exporter": "python",
   "pygments_lexer": "ipython3",
   "version": "3.8.8"
  }
 },
 "nbformat": 4,
 "nbformat_minor": 5
}
